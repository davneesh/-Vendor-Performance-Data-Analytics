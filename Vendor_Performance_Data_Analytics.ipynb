{
  "nbformat": 4,
  "nbformat_minor": 0,
  "metadata": {
    "colab": {
      "provenance": [],
      "authorship_tag": "ABX9TyMZfn4obLFhozfHcPWKnV87",
      "include_colab_link": true
    },
    "kernelspec": {
      "name": "python3",
      "display_name": "Python 3"
    },
    "language_info": {
      "name": "python"
    }
  },
  "cells": [
    {
      "cell_type": "markdown",
      "metadata": {
        "id": "view-in-github",
        "colab_type": "text"
      },
      "source": [
        "<a href=\"https://colab.research.google.com/github/davneesh/-Vendor-Performance-Data-Analytics/blob/main/Vendor_Performance_Data_Analytics.ipynb\" target=\"_parent\"><img src=\"https://colab.research.google.com/assets/colab-badge.svg\" alt=\"Open In Colab\"/></a>"
      ]
    },
    {
      "cell_type": "code",
      "execution_count": 28,
      "metadata": {
        "id": "Wf2HEsuX82iV"
      },
      "outputs": [],
      "source": [
        "import pandas as pd\n",
        "import os\n",
        "from sqlalchemy import create_engine"
      ]
    },
    {
      "cell_type": "code",
      "source": [
        "from google.colab import drive\n",
        "drive.mount('/content/drive')"
      ],
      "metadata": {
        "colab": {
          "base_uri": "https://localhost:8080/"
        },
        "id": "8dp5Y7GK-s6d",
        "outputId": "3f2e0077-e907-49b7-9db6-8a5634ccebc4"
      },
      "execution_count": 7,
      "outputs": [
        {
          "output_type": "stream",
          "name": "stdout",
          "text": [
            "Mounted at /content/drive\n"
          ]
        }
      ]
    },
    {
      "cell_type": "code",
      "source": [
        "engine = create_engine('sqlite:///inventory.db')"
      ],
      "metadata": {
        "id": "8jcmNALw9LLo"
      },
      "execution_count": 29,
      "outputs": []
    },
    {
      "cell_type": "code",
      "source": [
        "data_path = '/content/drive/MyDrive/Projects/ Vendor Performance Data Analytics/data'"
      ],
      "metadata": {
        "id": "stRiI9ez_QSp"
      },
      "execution_count": 30,
      "outputs": []
    },
    {
      "cell_type": "code",
      "source": [
        "for file in os.listdir(data_path):\n",
        "    df = pd.read_csv(os.path.join(data_path, file))\n",
        "    print(file, df.shape)"
      ],
      "metadata": {
        "colab": {
          "base_uri": "https://localhost:8080/"
        },
        "id": "P7kj5Oi4_wSc",
        "outputId": "b151a457-405b-4e15-bfaa-490619a56bde"
      },
      "execution_count": 31,
      "outputs": [
        {
          "output_type": "stream",
          "name": "stdout",
          "text": [
            "vendor_invoice.csv (5543, 10)\n",
            "purchase_prices.csv (12261, 9)\n",
            "end_inventory.csv (224489, 9)\n",
            "sales.csv (12825363, 14)\n",
            "begin_inventory.csv (206529, 9)\n",
            "purchases.csv (2372474, 16)\n"
          ]
        }
      ]
    },
    {
      "cell_type": "code",
      "source": [],
      "metadata": {
        "id": "kr3joB0VAv-i"
      },
      "execution_count": null,
      "outputs": []
    }
  ]
}